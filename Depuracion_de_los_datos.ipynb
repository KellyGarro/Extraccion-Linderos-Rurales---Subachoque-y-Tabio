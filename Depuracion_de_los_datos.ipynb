{
  "nbformat": 4,
  "nbformat_minor": 0,
  "metadata": {
    "colab": {
      "provenance": [],
      "gpuType": "T4"
    },
    "kernelspec": {
      "name": "python3",
      "display_name": "Python 3"
    },
    "language_info": {
      "name": "python"
    },
    "accelerator": "GPU"
  },
  "cells": [
    {
      "cell_type": "code",
      "execution_count": 1,
      "metadata": {
        "id": "D39Jec0ygX14"
      },
      "outputs": [],
      "source": [
        "from google.colab import drive\n",
        "import sys\n",
        "import os\n",
        "from osgeo import gdal\n",
        "from glob import glob"
      ]
    },
    {
      "cell_type": "code",
      "source": [
        "drive.mount('/content/drive', force_remount=True)\n",
        "FOLDER = '/content/drive/My Drive/DATA_LINDEROS/' #ruta de los datos\n",
        "sys.path.append(FOLDER)"
      ],
      "metadata": {
        "colab": {
          "base_uri": "https://localhost:8080/"
        },
        "id": "PeqBkKe7ghZW",
        "outputId": "feff5fc9-1f23-4aab-d1d6-409a1b2eb13c"
      },
      "execution_count": 2,
      "outputs": [
        {
          "output_type": "stream",
          "name": "stdout",
          "text": [
            "Mounted at /content/drive\n"
          ]
        }
      ]
    },
    {
      "cell_type": "code",
      "source": [
        "#Listar contenido carpeta\n",
        "contenido = os.listdir(FOLDER)\n",
        "print('Carpetas en ' + str(FOLDER) + ':\\n' , contenido)\n",
        "\n",
        "\n",
        "#parametros ruta dataset\n",
        "MAIN_FOLDER = FOLDER + '/DATASET_Subachoque/'#indicar aqui que mpio se usara\n",
        "\n",
        "contenido = os.listdir(MAIN_FOLDER)\n",
        "print('\\nTotal Carpetas en ' + str(MAIN_FOLDER) + ': ' + str(len(contenido)))\n",
        "print(contenido)"
      ],
      "metadata": {
        "colab": {
          "base_uri": "https://localhost:8080/"
        },
        "id": "FFdudEVagjbK",
        "outputId": "ce9ef14b-2413-4d3d-a854-c71a98b0716c"
      },
      "execution_count": 3,
      "outputs": [
        {
          "output_type": "stream",
          "name": "stdout",
          "text": [
            "Carpetas en /content/drive/My Drive/DATA_LINDEROS/:\n",
            " ['SALIDA', 'DATASET_Tabio', 'DATASET_Subachoque']\n",
            "\n",
            "Total Carpetas en /content/drive/My Drive/DATA_LINDEROS//DATASET_Subachoque/: 6\n",
            "['Ortofoto_256x256', 'Linderos_256x256', 'Ortofoto_2557x1887', 'Linderos_2557x1887', 'Ortofoto_512x512', 'Linderos_512x512']\n"
          ]
        }
      ]
    },
    {
      "cell_type": "code",
      "source": [
        "#Revision Teselas\n",
        "\n",
        "carpeta_linderos = 'Linderos_512x512/'#indicar aqui que carpeta se usara\n",
        "carpeta_ortofoto = 'Ortofoto_512x512/'#indicar aqui que carpeta se usara\n",
        "\n",
        "#lista contenido y almacena en arreglo id's dataset ortofotos\n",
        "print('Informacion teselas ortofotos')\n",
        "contenido_orto = os.listdir(MAIN_FOLDER + carpeta_ortofoto)\n",
        "print('Cantidad: '+ str(len(contenido_orto)))\n",
        "print('Nombre: ' + str(contenido_orto[0]))\n",
        "\n",
        "FOLDER_ORTOS = MAIN_FOLDER + carpeta_ortofoto +'SUBACHOQUE_ORTO_{}.TIF'\n",
        "ortos_files = sorted(glob(FOLDER_ORTOS.replace('{}', '*')))\n",
        "ortos_ids = [f.split('_')[-1].split('.')[0] for f in ortos_files]\n",
        "print('Total teselas ortofoto almacenadas: ' + str(len(ortos_ids)))\n",
        "\n",
        "\n",
        "#lista contenido y almacena en arreglo id's dataset linderos\n",
        "\n",
        "print('\\nInformacion teselas linderos')\n",
        "contenido_lind = os.listdir(MAIN_FOLDER + carpeta_linderos)\n",
        "print('Cantidad: '+ str(len(contenido_lind)))\n",
        "print('Nombre: ' + str(contenido_lind[0]))\n",
        "\n",
        "FOLDER_LINDEROS = MAIN_FOLDER + carpeta_linderos + 'SUBACHOQUE_LINDEROS_{}.TIF'\n",
        "linderos_files = sorted(glob(FOLDER_LINDEROS.replace('{}', '*')))\n",
        "linderos_ids = [f.split('_')[-1].split('.')[0] for f in linderos_files]\n",
        "print('Total teselas linderos almacenadas: ' + str(len(linderos_ids)))"
      ],
      "metadata": {
        "colab": {
          "base_uri": "https://localhost:8080/"
        },
        "id": "jr3iL9LkgmdC",
        "outputId": "1c543eed-9c96-43f9-8323-39c2bd96eb69"
      },
      "execution_count": 4,
      "outputs": [
        {
          "output_type": "stream",
          "name": "stdout",
          "text": [
            "Informacion teselas ortofotos\n",
            "Cantidad: 10492\n",
            "Nombre: SUBACHOQUE_ORTO_19739.TIF\n",
            "Total teselas ortofoto almacenadas: 10492\n",
            "\n",
            "Informacion teselas linderos\n",
            "Cantidad: 10492\n",
            "Nombre: SUBACHOQUE_LINDEROS_19555.TIF\n",
            "Total teselas linderos almacenadas: 10492\n"
          ]
        }
      ]
    },
    {
      "cell_type": "code",
      "source": [
        "#Revisar si existen tiles con dimension diferente\n",
        "\n",
        "cantidad =[]\n",
        "\n",
        "for tif in contenido_orto:\n",
        "  g = gdal.OpenEx('/content/drive/My Drive/DATA_LINDEROS/DATASET_Subachoque/Ortofoto_512x512/'+ tif)\n",
        "  if g.RasterXSize!=512 or g.RasterYSize!=512: #poner la dimension a evaluar\n",
        "    print(tif + ' ' + str(g.RasterXSize) + 'X' + str(g.RasterYSize))\n",
        "    os.remove('/content/drive/My Drive/DATA_LINDEROS/DATASET_Subachoque/' + carpeta_ortofoto + 'SUBACHOQUE_ORTO_'+str(i)+'.TIF')\n",
        "    cantidad.append(tif)\n",
        "  else:\n",
        "    pass\n",
        "\n",
        "print('Cantidad teselas distintas: ' + str(len(cantidad)))\n",
        "\n",
        "#si alguna tiene dimension inferior a window size, eliminarla"
      ],
      "metadata": {
        "colab": {
          "base_uri": "https://localhost:8080/"
        },
        "id": "GpOJc8Wzgo9P",
        "outputId": "15e83a3f-3a7a-4fd7-b93b-9a07be4a2281"
      },
      "execution_count": 5,
      "outputs": [
        {
          "output_type": "stream",
          "name": "stdout",
          "text": [
            "Cantidad teselas distintas: 0\n"
          ]
        }
      ]
    },
    {
      "cell_type": "code",
      "source": [
        "#ELIMINAR TESELA DE ORTO SIN PAREJA DE TESELA LINDEROS\n",
        "\n",
        "print('cantidad teselas linderos: ' + str(len(linderos_ids)))\n",
        "print('cantidad teselas ortofoto: ' + str(len(ortos_ids)))\n",
        "a = []\n",
        "b = []\n",
        "\n",
        "FOLDER_ORTOS = MAIN_FOLDER + carpeta_ortofoto +'SUBACHOQUE_ORTO_{}.TIF'\n",
        "ortos_files = sorted(glob(FOLDER_ORTOS.replace('{}', '*')))\n",
        "ortos_ids = [f.split('_')[-1].split('.')[0] for f in ortos_files]\n",
        "\n",
        "FOLDER_LINDEROS = MAIN_FOLDER + carpeta_linderos + 'SUBACHOQUE_LINDEROS_{}.TIF'\n",
        "linderos_files = sorted(glob(FOLDER_LINDEROS.replace('{}', '*')))\n",
        "linderos_ids = [f.split('_')[-1].split('.')[0] for f in linderos_files]\n",
        "\n",
        "\n",
        "for i in ortos_ids:\n",
        "  if i not in linderos_ids:\n",
        "    print(i)\n",
        "    a.append(i)\n",
        "    os.remove('/content/drive/My Drive/DATA_LINDEROS/DATASET_Subachoque/' + carpeta_ortofoto + 'SUBACHOQUE_ORTO_'+str(i)+'.TIF')\n",
        "  else:\n",
        "    pass\n",
        "\n",
        "for i in linderos_ids:\n",
        "  if i not in ortos_ids:\n",
        "    print(i)\n",
        "    b.append(i)\n",
        "    os.remove(FOLDER + carpeta_linderos + 'SUBACHOQUE_LINDEROS_'+str(i)+'.TIF')\n",
        "  else:\n",
        "    pass\n",
        "print('cantidad teselas sin ortofoto: ' + str(len(a)))\n",
        "print('cantidad teselas sin linderos: ' + str(len(b)))"
      ],
      "metadata": {
        "colab": {
          "base_uri": "https://localhost:8080/"
        },
        "id": "4sIK71ohgsMH",
        "outputId": "bb5c9748-ebf3-4fb2-b884-b6d13111d5b4"
      },
      "execution_count": 6,
      "outputs": [
        {
          "output_type": "stream",
          "name": "stdout",
          "text": [
            "cantidad teselas linderos: 10492\n",
            "cantidad teselas ortofoto: 10492\n",
            "cantidad teselas sin ortofoto: 0\n",
            "cantidad teselas sin linderos: 0\n"
          ]
        }
      ]
    }
  ]
}